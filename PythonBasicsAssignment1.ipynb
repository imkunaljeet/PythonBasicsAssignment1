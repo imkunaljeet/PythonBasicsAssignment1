{
 "cells": [
  {
   "cell_type": "markdown",
   "metadata": {},
   "source": [
    "**1. In the below elements which of them are values or an expression? eg:- values can be\n",
    "integer or string and expressions will be mathematical operators.**\\\n",
    "\\* - mathematical operator\\\n",
    "'hello' - string\\\n",
    "-87.8 - float\\\n",
    "\\- \\- mathematical operator\\\n",
    "/ - mathematical operator\\\n",
    "\\+ \\- mathematical operator\\\n",
    "6 - integer"
   ]
  },
  {
   "cell_type": "markdown",
   "metadata": {},
   "source": [
    "**2. What is the difference between string and variable?**\\\n",
    "Variable - A variable is used to store data or values in your program which can be used anytime according to our need. Each variable has a name, a value and a type. A variable could be of several types such as string, integer, list, tuple, etc.\\\n",
    "eg : a = 10 where, a is the name of the variable, 10 is its value and the type of value is integer.\\\n",
    "A variable's value can be changed anytime and can also be overwritten.\n",
    "\n",
    "String - A string is a data type and can also be referred to as variable as anything assigned to a variable within quotes(single or double) is a string.\\\n",
    "eg - 'My name is Kunal'\\\n",
    "A string can contain alphabets, numbers, spaces, punctuations,etc.\n",
    "\n",
    "String cannot be used for calculation even if it is a number '6'. We have to convert it into ineteger for any calculations."
   ]
  },
  {
   "cell_type": "markdown",
   "metadata": {},
   "source": [
    "**3. Describe three different data types.**\\\n",
    "Data types are object and variables are instance(object) of these classes. Three common data types in python are -\n",
    "1. Integer - It contains positive or negative whole numbers and represented by int class. eg - 3\n",
    "2. Float - It is represented by float class. It generally represents a decimal number i.e a real number with decimal point or float point. eg - 1.5\n",
    "3. Complex number- It is represented by complex class and written as (real part) + (imaginary part).\\\n",
    "eg - 4+3j . In python we use 'j' instead of 'i' to represent the imaginary part.\n"
   ]
  },
  {
   "cell_type": "markdown",
   "metadata": {},
   "source": [
    "**4. What is an expression made up of? What do all expressions do?**\\\n",
    "An expression is made up of operators and operands that is interpreted to produce some other value. \\\n",
    "It is a sequence or combination of values, variables, operators or functions.\\\n",
    "Eg - x = 10, y = 5, z = x - y\\\n",
    "In the above example x, y and z are variables, 10 and 5 are values, = and - are operators.\n",
    "\n",
    "Expression is simply used to evaluate or calculate the value of something.\\\n",
    "A value or a variable is also considered an expression, because these always evaluate itself.\\\n",
    "eg - 16 gives output 16\n"
   ]
  },
  {
   "cell_type": "markdown",
   "metadata": {},
   "source": [
    "**5. This assignment statements, like spam = 10. What is the difference between an expression and a statement?**\\\n",
    "spam = 10 is an assignment statement which assigns a value 10 to spam.\\\n",
    "Any Instruction that a python interpreter can execute is called a Statement. Smallest executable code which creates a variable or displays a value is a statement.Each and every line of code we write in python is called a statement as they are executable by python's interpreter or compiler.\n",
    "\n",
    "*Difference*\\\n",
    "A statement executes something whereas an expression evaluates to a value.\\\n",
    "An expression always produces or returns a result value whereas a statement may or may not return a result, as it only does what a statement says."
   ]
  },
  {
   "cell_type": "markdown",
   "metadata": {},
   "source": [
    "**6. After running the following code, what does the variable bacon contain?\\\n",
    "bacon = 22\\\n",
    "bacon + 1**\\\n",
    "The variable bacon is assigned the integer 22 which can be used for further arithmetical operations.\\\n",
    "So, bacon + 1 gives the output 23\\\n",
    "But, the value of the bacon variable remains unchanged i.e. 22 "
   ]
  },
  {
   "cell_type": "markdown",
   "metadata": {},
   "source": [
    "**7. What should the values of the following two terms be?\\\n",
    "&#39;spam&#39; + &#39;spamspam&#39;\\\n",
    "&#39;spam&#39; * 3**\\\n",
    "The value of both the terms is the string 'spamspamspam'."
   ]
  },
  {
   "cell_type": "markdown",
   "metadata": {},
   "source": [
    "**8. Why is eggs a valid variable name while 100 is invalid?**\\\n",
    "Python doesn't allow a variable name to start with a integer as its parser cannot process it.\\\n",
    "But an integer can be used after the first alphabet or underscore."
   ]
  },
  {
   "cell_type": "markdown",
   "metadata": {},
   "source": [
    "**9. What three functions can be used to get the integer, floating-point number, or string\n",
    "version of a value?**\n",
    "Three functions are as follows -\n",
    "1. int function to get integer version of a numeric value. eg - int('56')\n",
    "2. float function to get floating - point number of a numeric value. eg - float(5)\n",
    "3. str function to get string version of a value. eg - str('I have 56 pens.')"
   ]
  },
  {
   "cell_type": "markdown",
   "metadata": {},
   "source": [
    "**10. Why does this expression cause an error? How can you fix it?\\\n",
    "&#39;I have eaten &#39; + 99 + &#39; burritos.&#39;**\\\n",
    "This expression causes an error because integers cannot be concatenated to strings. Only strings can be concatenated to strings.\\\n",
    "To fix it we have to write 99 inside single or double quotes to consider it as a string or we can use str function.\\\n",
    "eg - 'I have eaten' + ' 99 ' + 'buritos'"
   ]
  }
 ],
 "metadata": {
  "kernelspec": {
   "display_name": "Python 3",
   "language": "python",
   "name": "python3"
  },
  "language_info": {
   "codemirror_mode": {
    "name": "ipython",
    "version": 3
   },
   "file_extension": ".py",
   "mimetype": "text/x-python",
   "name": "python",
   "nbconvert_exporter": "python",
   "pygments_lexer": "ipython3",
   "version": "3.7.6"
  }
 },
 "nbformat": 4,
 "nbformat_minor": 4
}
